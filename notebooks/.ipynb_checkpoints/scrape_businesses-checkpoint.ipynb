{
 "cells": [
  {
   "cell_type": "code",
   "execution_count": 50,
   "metadata": {},
   "outputs": [],
   "source": [
    "import requests\n",
    "import json\n",
    "import pandas as pd\n",
    "import datetime"
   ]
  },
  {
   "cell_type": "code",
   "execution_count": 51,
   "metadata": {},
   "outputs": [],
   "source": [
    "url = (\n",
    "    \"https://wabi-us-gov-virginia-api.analysis.usgovcloudapi.net/public/reports/querydata\"\n",
    ")"
   ]
  },
  {
   "cell_type": "code",
   "execution_count": 52,
   "metadata": {},
   "outputs": [],
   "source": [
    "params = ((\"synchronous\", \"true\"), (\"Connection\", \"keep-alive\"))"
   ]
  },
  {
   "cell_type": "code",
   "execution_count": 53,
   "metadata": {},
   "outputs": [],
   "source": [
    "headers = {\n",
    "    \"Host\": \"wabi-us-gov-virginia-api.analysis.usgovcloudapi.net\",\n",
    "    \"Connection\": \"keep-alive\",\n",
    "    \"Content-Length\": \"3199\",\n",
    "    \"Pragma\": \"no-cache\",\n",
    "    \"Cache-Control\": \"no-cache\",\n",
    "    \"Accept\": \"application/json, text/plain, */*\",\n",
    "    \"RequestId\": \"a71747f7-be8d-f0e8-6964-80c01e2af60b\",\n",
    "    \"DNT\": \"1\",\n",
    "    \"X-PowerBI-ResourceKey\": \"c7c36864-4c68-4836-a622-adddb1a61808\",\n",
    "    \"Content-Type\": \"application/json;charset=UTF-8\",\n",
    "    \"User-Agent\": \"Mozilla/5.0 (Macintosh; Intel Mac OS X 10_13_6) AppleWebKit/537.36 (KHTML, like Gecko) Chrome/87.0.4280.88 Safari/537.36\",\n",
    "    \"ActivityId\": \"0f5337d4-2c7c-82a9-294a-f2655624bb52\",\n",
    "    \"Origin\": \"https://app.powerbigov.us\",\n",
    "    \"Sec-Fetch-Site\": \"cross-site\",\n",
    "    \"Sec-Fetch-Mode\": \"cors\",\n",
    "    \"Sec-Fetch-Dest\": \"empty\",\n",
    "    \"Referer\": \"https://app.powerbigov.us/\",\n",
    "    \"Accept-Encoding\": \"gzip, deflate, br\",\n",
    "    \"Accept-Language\": \"en-US,en;q=0.9,da;q=0.8\",\n",
    "}"
   ]
  },
  {
   "cell_type": "code",
   "execution_count": 54,
   "metadata": {},
   "outputs": [],
   "source": [
    "proxies = {\n",
    "  \"http\": None,\n",
    "  \"https\": None,\n",
    "}"
   ]
  },
  {
   "cell_type": "code",
   "execution_count": 55,
   "metadata": {},
   "outputs": [],
   "source": [
    "body='{\"version\":\"1.0.0\",\"queries\":[{\"Query\":{\"Commands\":[{\"SemanticQueryDataShapeCommand\":{\"Query\":{\"Version\":2,\"From\":[{\"Name\":\"v\",\"Entity\":\"BusinessOutBreaks\",\"Type\":0}],\"Select\":[{\"Column\":{\"Expression\":{\"SourceRef\":{\"Source\":\"v\"}},\"Property\":\"Location: State/Province\"},\"Name\":\"VCPH_Workplaces - Outbreaks by (2).Location: State/Province\"},{\"Column\":{\"Expression\":{\"SourceRef\":{\"Source\":\"v\"}},\"Property\":\"Location: City\"},\"Name\":\"VCPH_Workplaces - Outbreaks by (2).Location: City\"},{\"Column\":{\"Expression\":{\"SourceRef\":{\"Source\":\"v\"}},\"Property\":\"Location: Street\"},\"Name\":\"VCPH_Workplaces - Outbreaks by (2).Location: Street\"},{\"Aggregation\":{\"Expression\":{\"Column\":{\"Expression\":{\"SourceRef\":{\"Source\":\"v\"}},\"Property\":\"Location: Account Name +\"}},\"Function\":3},\"Name\":\"Min(VCPH_Workplaces - Outbreaks by (2).Location: Account Name +)\"},{\"Column\":{\"Expression\":{\"SourceRef\":{\"Source\":\"v\"}},\"Property\":\"Location Type  ↑\"},\"Name\":\"VCPH_Workplaces - Outbreaks by (2).Location Type  ↑\"},{\"Aggregation\":{\"Expression\":{\"Column\":{\"Expression\":{\"SourceRef\":{\"Source\":\"v\"}},\"Property\":\"Exposure Event: Created Date\"}},\"Function\":3},\"Name\":\"Min(BusinessOutBreaks.Exposure Event: Created Date)\"}]},\"Binding\":{\"Primary\":{\"Groupings\":[{\"Projections\":[0,1,2,3,5]}]},\"Secondary\":{\"Groupings\":[{\"Projections\":[4]}]},\"DataReduction\":{\"DataVolume\":4,\"Primary\":{\"Top\":{}},\"Secondary\":{\"Top\":{}}},\"SuppressedJoinPredicates\":[3,5],\"Version\":1}}}]},\"CacheKey\":\"{\\\\\"Commands\\\\\":[{\\\\\"SemanticQueryDataShapeCommand\\\\\":{\\\\\"Query\\\\\":{\\\\\"Version\\\\\":2,\\\\\"From\\\\\":[{\\\\\"Name\\\\\":\\\\\"v\\\\\",\\\\\"Entity\\\\\":\\\\\"BusinessOutBreaks\\\\\",\\\\\"Type\\\\\":0}],\\\\\"Select\\\\\":[{\\\\\"Column\\\\\":{\\\\\"Expression\\\\\":{\\\\\"SourceRef\\\\\":{\\\\\"Source\\\\\":\\\\\"v\\\\\"}},\\\\\"Property\\\\\":\\\\\"Location: State/Province\\\\\"},\\\\\"Name\\\\\":\\\\\"VCPH_Workplaces - Outbreaks by (2).Location: State/Province\\\\\"},{\\\\\"Column\\\\\":{\\\\\"Expression\\\\\":{\\\\\"SourceRef\\\\\":{\\\\\"Source\\\\\":\\\\\"v\\\\\"}},\\\\\"Property\\\\\":\\\\\"Location: City\\\\\"},\\\\\"Name\\\\\":\\\\\"VCPH_Workplaces - Outbreaks by (2).Location: City\\\\\"},{\\\\\"Column\\\\\":{\\\\\"Expression\\\\\":{\\\\\"SourceRef\\\\\":{\\\\\"Source\\\\\":\\\\\"v\\\\\"}},\\\\\"Property\\\\\":\\\\\"Location: Street\\\\\"},\\\\\"Name\\\\\":\\\\\"VCPH_Workplaces - Outbreaks by (2).Location: Street\\\\\"},{\\\\\"Aggregation\\\\\":{\\\\\"Expression\\\\\":{\\\\\"Column\\\\\":{\\\\\"Expression\\\\\":{\\\\\"SourceRef\\\\\":{\\\\\"Source\\\\\":\\\\\"v\\\\\"}},\\\\\"Property\\\\\":\\\\\"Location: Account Name +\\\\\"}},\\\\\"Function\\\\\":3},\\\\\"Name\\\\\":\\\\\"Min(VCPH_Workplaces - Outbreaks by (2).Location: Account Name +)\\\\\"},{\\\\\"Column\\\\\":{\\\\\"Expression\\\\\":{\\\\\"SourceRef\\\\\":{\\\\\"Source\\\\\":\\\\\"v\\\\\"}},\\\\\"Property\\\\\":\\\\\"Location Type  ↑\\\\\"},\\\\\"Name\\\\\":\\\\\"VCPH_Workplaces - Outbreaks by (2).Location Type  ↑\\\\\"},{\\\\\"Aggregation\\\\\":{\\\\\"Expression\\\\\":{\\\\\"Column\\\\\":{\\\\\"Expression\\\\\":{\\\\\"SourceRef\\\\\":{\\\\\"Source\\\\\":\\\\\"v\\\\\"}},\\\\\"Property\\\\\":\\\\\"Exposure Event: Created Date\\\\\"}},\\\\\"Function\\\\\":3},\\\\\"Name\\\\\":\\\\\"Min(BusinessOutBreaks.Exposure Event: Created Date)\\\\\"}]},\\\\\"Binding\\\\\":{\\\\\"Primary\\\\\":{\\\\\"Groupings\\\\\":[{\\\\\"Projections\\\\\":[0,1,2,3,5]}]},\\\\\"Secondary\\\\\":{\\\\\"Groupings\\\\\":[{\\\\\"Projections\\\\\":[4]}]},\\\\\"DataReduction\\\\\":{\\\\\"DataVolume\\\\\":4,\\\\\"Primary\\\\\":{\\\\\"Top\\\\\":{}},\\\\\"Secondary\\\\\":{\\\\\"Top\\\\\":{}}},\\\\\"SuppressedJoinPredicates\\\\\":[3,5],\\\\\"Version\\\\\":1}}}]}\",\"QueryId\":\"\",\"ApplicationContext\":{\"DatasetId\":\"82fe8719-09b2-432f-beb1-86a79c585e4e\",\"Sources\":[{\"ReportId\":\"7cbcb555-a5cc-4e58-8f08-c19d7b85bcb2\"}]}}],\"cancelQueries\":[],\"modelId\":397144}'"
   ]
  },
  {
   "cell_type": "code",
   "execution_count": 56,
   "metadata": {},
   "outputs": [],
   "source": [
    "json_data = json.loads(body)"
   ]
  },
  {
   "cell_type": "code",
   "execution_count": 57,
   "metadata": {},
   "outputs": [
    {
     "name": "stderr",
     "output_type": "stream",
     "text": [
      "/Users/sgreene/.local/share/virtualenvs/projects-pQzHlJTk/lib/python3.7/site-packages/urllib3/connectionpool.py:1020: InsecureRequestWarning: Unverified HTTPS request is being made to host 'wabi-us-gov-virginia-api.analysis.usgovcloudapi.net'. Adding certificate verification is strongly advised. See: https://urllib3.readthedocs.io/en/latest/advanced-usage.html#ssl-warnings\n",
      "  InsecureRequestWarning,\n"
     ]
    }
   ],
   "source": [
    "response = requests.post(\n",
    "    url,\n",
    "    params=params,\n",
    "    headers=headers,\n",
    "    json=json_data,\n",
    "    verify=False,\n",
    "    proxies=proxies\n",
    ")"
   ]
  },
  {
   "cell_type": "code",
   "execution_count": 58,
   "metadata": {},
   "outputs": [],
   "source": [
    "data = response.json()"
   ]
  },
  {
   "cell_type": "code",
   "execution_count": 59,
   "metadata": {},
   "outputs": [],
   "source": [
    "types = data[\"results\"][0][\"result\"][\"data\"][\"dsr\"]['DS'][0]['SH'][0]['DM1']"
   ]
  },
  {
   "cell_type": "code",
   "execution_count": 60,
   "metadata": {},
   "outputs": [],
   "source": [
    "groupings = []\n",
    "for grouping in types:\n",
    "    groupings.append(grouping['G3'])"
   ]
  },
  {
   "cell_type": "code",
   "execution_count": 61,
   "metadata": {},
   "outputs": [],
   "source": [
    "ds = data[\"results\"][0][\"result\"][\"data\"][\"dsr\"][\"DS\"][0]"
   ]
  },
  {
   "cell_type": "code",
   "execution_count": 62,
   "metadata": {},
   "outputs": [],
   "source": [
    "state = ds[\"ValueDicts\"][\"D0\"]"
   ]
  },
  {
   "cell_type": "code",
   "execution_count": 63,
   "metadata": {},
   "outputs": [],
   "source": [
    "cities = ds[\"ValueDicts\"][\"D1\"]"
   ]
  },
  {
   "cell_type": "code",
   "execution_count": 64,
   "metadata": {},
   "outputs": [],
   "source": [
    "addresses = ds[\"ValueDicts\"][\"D2\"]"
   ]
  },
  {
   "cell_type": "code",
   "execution_count": 65,
   "metadata": {},
   "outputs": [],
   "source": [
    "names = ds[\"ValueDicts\"][\"D3\"]"
   ]
  },
  {
   "cell_type": "code",
   "execution_count": 66,
   "metadata": {},
   "outputs": [],
   "source": [
    "rows = ds[\"PH\"][0][\"DM0\"]"
   ]
  },
  {
   "cell_type": "code",
   "execution_count": 67,
   "metadata": {},
   "outputs": [
    {
     "data": {
      "text/plain": [
       "{'S': [{'N': 'G0', 'T': 1, 'DN': 'D0'},\n",
       "  {'N': 'G1', 'T': 1, 'DN': 'D1'},\n",
       "  {'N': 'G2', 'T': 1, 'DN': 'D2'}],\n",
       " 'C': [0, 0, 0],\n",
       " 'X': [{'S': [{'N': 'M0', 'T': 1, 'DN': 'D3'}, {'N': 'M1', 'T': 7}],\n",
       "   'C': [],\n",
       "   'Ø': 3},\n",
       "  {'I': 13, 'C': [0, 1610496000000]}]}"
      ]
     },
     "execution_count": 67,
     "metadata": {},
     "output_type": "execute_result"
    }
   ],
   "source": [
    "rows[0]"
   ]
  },
  {
   "cell_type": "code",
   "execution_count": 68,
   "metadata": {},
   "outputs": [
    {
     "name": "stdout",
     "output_type": "stream",
     "text": [
      "skip\n",
      "{'I': 13, 'C': [0, 1610496000000]}\n",
      "{'I': 12, 'C': [1, 1610409600000]}\n",
      "{'I': 13, 'C': [2, 1610582400000]}\n",
      "{'I': 16, 'C': [3, 1610409600000]}\n",
      "{'I': 16, 'C': [4, 1610496000000]}\n",
      "{'I': 16, 'C': [5, 1610064000000]}\n",
      "{'I': 16, 'C': [6, 1609977600000]}\n",
      "{'I': 13, 'C': [7, 1610064000000]}\n",
      "{'I': 10, 'C': [8, 1610323200000]}\n",
      "{'I': 12, 'C': [9, 1610582400000]}\n",
      "{'I': 13, 'C': [10, 1610496000000]}\n",
      "{'I': 7, 'C': [11, 1610323200000]}\n",
      "{'I': 5, 'C': [12, 1610064000000]}\n",
      "{'I': 13, 'C': [13, 1610582400000]}\n",
      "{'I': 10, 'C': [14, 1610064000000]}\n",
      "{'I': 10, 'C': [15, 1610496000000]}\n",
      "{'C': [16, 1609891200000]}\n",
      "{'I': 5, 'C': [17, 1609977600000]}\n",
      "{'I': 12, 'C': [18], 'R': 2}\n",
      "{'I': 8, 'C': [19, 1610409600000]}\n",
      "{'I': 11, 'C': [20, 1609891200000]}\n",
      "{'I': 8, 'C': [21, 1610409600000]}\n",
      "{'I': 13, 'C': [22, 1610323200000]}\n",
      "{'I': 8, 'C': [23, 1610409600000]}\n",
      "{'I': 10, 'C': [24, 1610323200000]}\n",
      "{'I': 10, 'C': [25, 1610409600000]}\n",
      "{'I': 12, 'C': [26, 1610582400000]}\n",
      "{'I': 16, 'C': [27, 1610496000000]}\n",
      "{'I': 1, 'C': [28, 1610064000000]}\n",
      "{'I': 3, 'C': [29], 'R': 2}\n",
      "{'I': 1, 'C': [30, 1609718400000]}\n",
      "{'I': 1, 'C': [31, 1610409600000]}\n",
      "{'I': 13, 'C': [32, 1610496000000]}\n",
      "{'I': 10, 'C': [33, 1610409600000]}\n",
      "{'I': 10, 'C': [34], 'R': 2}\n",
      "{'I': 13, 'C': [35, 1610064000000]}\n",
      "{'I': 15, 'C': [36, 1610668800000]}\n",
      "{'I': 13, 'C': [37, 1610496000000]}\n",
      "{'I': 13, 'C': [38], 'R': 2}\n",
      "{'I': 12, 'C': [39, 1610409600000]}\n",
      "{'I': 10, 'C': [40, 1610323200000]}\n",
      "{'I': 17, 'C': [41], 'R': 2}\n",
      "{'I': 8, 'C': [42, 1609977600000]}\n",
      "{'I': 1, 'C': [43, 1609891200000]}\n",
      "{'I': 12, 'C': [44, 1610409600000]}\n",
      "{'I': 2, 'C': [45, 1610064000000]}\n",
      "{'I': 1, 'C': [46, 1610582400000]}\n",
      "{'I': 1, 'C': [28, 1609891200000]}\n",
      "{'I': 1, 'C': [47, 1610582400000]}\n",
      "{'I': 10, 'C': [48, 1610323200000]}\n",
      "{'I': 10, 'C': [49, 1610496000000]}\n",
      "{'I': 9, 'C': [50, 1609977600000]}\n",
      "{'I': 16, 'C': [51, 1610064000000]}\n",
      "{'I': 6, 'C': [52, 1610496000000]}\n",
      "{'I': 16, 'C': [53], 'R': 2}\n",
      "{'I': 10, 'C': [54, 1610064000000]}\n",
      "{'I': 13, 'C': [55, 1610409600000]}\n",
      "{'I': 13, 'C': [56, 1610064000000]}\n",
      "{'I': 10, 'C': [57, 1610409600000]}\n",
      "{'I': 10, 'C': [58, 1610323200000]}\n",
      "{'I': 16, 'C': [59, 1610496000000]}\n",
      "{'I': 5, 'C': [60, 1609977600000]}\n",
      "{'I': 16, 'C': [61, 1610323200000]}\n",
      "{'I': 16, 'C': [62, 1610496000000]}\n",
      "{'I': 13, 'C': [63, 1610064000000]}\n",
      "{'I': 14, 'C': [64], 'R': 2}\n",
      "{'I': 16, 'C': [65], 'R': 2}\n",
      "{'I': 16, 'C': [66], 'R': 2}\n",
      "{'I': 16, 'C': [67, 1609977600000]}\n",
      "{'I': 3, 'C': [68, 1610064000000]}\n",
      "{'I': 10, 'C': [69, 1610582400000]}\n",
      "{'I': 10, 'C': [70, 1610409600000]}\n",
      "{'I': 11, 'C': [71], 'R': 2}\n",
      "{'I': 11, 'C': [72, 1610496000000]}\n",
      "{'I': 10, 'C': [73], 'R': 2}\n",
      "{'I': 10, 'C': [74], 'R': 2}\n",
      "{'I': 10, 'C': [75, 1610409600000]}\n",
      "{'I': 4, 'C': [76, 1610582400000]}\n",
      "{'I': 14, 'C': [77, 1610323200000]}\n",
      "{'I': 16, 'C': [78, 1610496000000]}\n",
      "{'I': 7, 'C': [79, 1610582400000]}\n",
      "{'I': 16, 'C': [80, 1610323200000]}\n",
      "{'I': 10, 'C': [81], 'R': 2}\n",
      "{'I': 16, 'C': [82, 1609977600000]}\n",
      "{'I': 12, 'C': [83, 1610409600000]}\n",
      "{'I': 16, 'C': [84, 1610064000000]}\n",
      "{'I': 16, 'C': [85, 1610496000000]}\n",
      "{'I': 5, 'C': [86, 1610064000000]}\n",
      "{'I': 12, 'C': [87, 1610323200000]}\n",
      "{'I': 12, 'C': [88, 1610496000000]}\n",
      "{'I': 16, 'C': [89], 'R': 2}\n"
     ]
    }
   ],
   "source": [
    "locations = []\n",
    "\n",
    "for row in rows:\n",
    "    keys = row.keys()\n",
    "\n",
    "    cells = row['X']\n",
    "\n",
    "    info = row['C']\n",
    "        \n",
    "    if \"R\" not in keys:\n",
    "\n",
    "        state = info[0]\n",
    "        address = info[1]\n",
    "        city = info[2]\n",
    "        \n",
    "    elif row[\"R\"] == 1:\n",
    "        city = info[0]\n",
    "        address = info[1]\n",
    "    else:\n",
    "        address = info[0]\n",
    "    \n",
    "    for cell in cells:\n",
    "        cell_keys = cell.keys()\n",
    "        \n",
    "        if \"S\" not in cell_keys:\n",
    "            name = cell['C'][0]\n",
    "            print(cell)\n",
    "            if \"R\" not in cell:\n",
    "                timestamp = cell['C'][1]\n",
    "            try:\n",
    "                business_type = cell['I']\n",
    "            except:\n",
    "                business_type = 0\n",
    "        else:\n",
    "            print(\"skip\")\n",
    "        locations.append(\n",
    "            (\n",
    "                name,\n",
    "                business_type,\n",
    "                address,\n",
    "                city,\n",
    "                timestamp,\n",
    "            )\n",
    "        )"
   ]
  },
  {
   "cell_type": "code",
   "execution_count": 69,
   "metadata": {},
   "outputs": [],
   "source": [
    "matched = [\n",
    "    (names[name], groupings[business_type], addresses[address], cities[city], timestamp) for name, business_type, address, city, timestamp in locations\n",
    "]"
   ]
  },
  {
   "cell_type": "code",
   "execution_count": 70,
   "metadata": {},
   "outputs": [],
   "source": [
    "df = pd.DataFrame(matched, columns=[\"business_name\", \"business_type\",\"address\",\"city\",\"timestamp\"])"
   ]
  },
  {
   "cell_type": "code",
   "execution_count": 71,
   "metadata": {},
   "outputs": [],
   "source": [
    "df = df.drop(df.index[0])"
   ]
  },
  {
   "cell_type": "code",
   "execution_count": 72,
   "metadata": {},
   "outputs": [],
   "source": [
    "df['date'] = pd.to_datetime((df['timestamp']/1000), unit='s')"
   ]
  },
  {
   "cell_type": "markdown",
   "metadata": {},
   "source": [
    "---"
   ]
  },
  {
   "cell_type": "markdown",
   "metadata": {},
   "source": [
    "#### Latest"
   ]
  },
  {
   "cell_type": "code",
   "execution_count": 73,
   "metadata": {},
   "outputs": [
    {
     "data": {
      "text/html": [
       "<div>\n",
       "<style scoped>\n",
       "    .dataframe tbody tr th:only-of-type {\n",
       "        vertical-align: middle;\n",
       "    }\n",
       "\n",
       "    .dataframe tbody tr th {\n",
       "        vertical-align: top;\n",
       "    }\n",
       "\n",
       "    .dataframe thead th {\n",
       "        text-align: right;\n",
       "    }\n",
       "</style>\n",
       "<table border=\"1\" class=\"dataframe\">\n",
       "  <thead>\n",
       "    <tr style=\"text-align: right;\">\n",
       "      <th></th>\n",
       "      <th>business_name</th>\n",
       "      <th>business_type</th>\n",
       "      <th>address</th>\n",
       "      <th>city</th>\n",
       "      <th>timestamp</th>\n",
       "      <th>date</th>\n",
       "    </tr>\n",
       "  </thead>\n",
       "  <tbody>\n",
       "    <tr>\n",
       "      <th>37</th>\n",
       "      <td>Santa Clara Church</td>\n",
       "      <td>Place of worship</td>\n",
       "      <td>323 South E Street</td>\n",
       "      <td>Oxnard</td>\n",
       "      <td>1610668800000</td>\n",
       "      <td>2021-01-15</td>\n",
       "    </tr>\n",
       "  </tbody>\n",
       "</table>\n",
       "</div>"
      ],
      "text/plain": [
       "         business_name     business_type             address    city  \\\n",
       "37  Santa Clara Church  Place of worship  323 South E Street  Oxnard   \n",
       "\n",
       "        timestamp       date  \n",
       "37  1610668800000 2021-01-15  "
      ]
     },
     "execution_count": 73,
     "metadata": {},
     "output_type": "execute_result"
    }
   ],
   "source": [
    "latest = df[df.date == df.date.max()]\n",
    "latest"
   ]
  },
  {
   "cell_type": "markdown",
   "metadata": {},
   "source": [
    "---\n",
    "#### By business type"
   ]
  },
  {
   "cell_type": "code",
   "execution_count": 74,
   "metadata": {},
   "outputs": [
    {
     "data": {
      "text/plain": [
       "Food service/restaurant                                              19\n",
       "Retail space (including grocery stores)                              19\n",
       "Other manufacturing                                                  13\n",
       "Other (specify)                                                       9\n",
       "Agricultural operations                                               7\n",
       "Bank/financial services                                               4\n",
       "Factory/manufacturing plant                                           4\n",
       "Office space/workspace                                                3\n",
       "Other medical facility                                                2\n",
       "Animal services (e.g., animal shelter/control, veterinary clinic)     2\n",
       "Distribution warehouse                                                2\n",
       "Urgent care center/clinic                                             1\n",
       "Accommodations (e.g. hotel, hostel, motel)                            1\n",
       "Food processing/manufacturing (other than meat)                       1\n",
       "Daycare/Preschool                                                     1\n",
       "Auto services (e.g., auto repair, gas station, car wash)              1\n",
       "Place of worship                                                      1\n",
       "Airline/maritime travel (e.g. flights, cruise ships)                  1\n",
       "Name: business_type, dtype: int64"
      ]
     },
     "execution_count": 74,
     "metadata": {},
     "output_type": "execute_result"
    }
   ],
   "source": [
    "df.business_type.value_counts()"
   ]
  },
  {
   "cell_type": "markdown",
   "metadata": {},
   "source": [
    "---\n",
    "#### By city"
   ]
  },
  {
   "cell_type": "code",
   "execution_count": 75,
   "metadata": {},
   "outputs": [
    {
     "data": {
      "text/plain": [
       "Oxnard              27\n",
       "Simi Valley         14\n",
       "Ventura             14\n",
       "Thousand Oaks        8\n",
       "Camarillo            8\n",
       "Santa Paula          7\n",
       "Newbury Park         3\n",
       "Moorpark             3\n",
       "Fillmore             2\n",
       "Westlake Village     2\n",
       "Port Hueneme         2\n",
       "Ojai                 1\n",
       "Name: city, dtype: int64"
      ]
     },
     "execution_count": 75,
     "metadata": {},
     "output_type": "execute_result"
    }
   ],
   "source": [
    "df.city.value_counts()"
   ]
  },
  {
   "cell_type": "markdown",
   "metadata": {},
   "source": [
    "---\n",
    "#### Thousand Oaks"
   ]
  },
  {
   "cell_type": "code",
   "execution_count": 76,
   "metadata": {},
   "outputs": [
    {
     "data": {
      "text/html": [
       "<div>\n",
       "<style scoped>\n",
       "    .dataframe tbody tr th:only-of-type {\n",
       "        vertical-align: middle;\n",
       "    }\n",
       "\n",
       "    .dataframe tbody tr th {\n",
       "        vertical-align: top;\n",
       "    }\n",
       "\n",
       "    .dataframe thead th {\n",
       "        text-align: right;\n",
       "    }\n",
       "</style>\n",
       "<table border=\"1\" class=\"dataframe\">\n",
       "  <thead>\n",
       "    <tr style=\"text-align: right;\">\n",
       "      <th></th>\n",
       "      <th>business_name</th>\n",
       "      <th>business_type</th>\n",
       "      <th>address</th>\n",
       "      <th>city</th>\n",
       "      <th>timestamp</th>\n",
       "      <th>date</th>\n",
       "    </tr>\n",
       "  </thead>\n",
       "  <tbody>\n",
       "    <tr>\n",
       "      <th>14</th>\n",
       "      <td>Skyworks Solutions, Inc.</td>\n",
       "      <td>Other manufacturing</td>\n",
       "      <td>2421 / 2427 West Hillcrest Drive</td>\n",
       "      <td>Newbury Park</td>\n",
       "      <td>1610582400000</td>\n",
       "      <td>2021-01-14</td>\n",
       "    </tr>\n",
       "    <tr>\n",
       "      <th>15</th>\n",
       "      <td>Panda Express  N.P.</td>\n",
       "      <td>Food service/restaurant</td>\n",
       "      <td>2690 Teller</td>\n",
       "      <td>Newbury Park</td>\n",
       "      <td>1610064000000</td>\n",
       "      <td>2021-01-08</td>\n",
       "    </tr>\n",
       "    <tr>\n",
       "      <th>16</th>\n",
       "      <td>Taco Bell - Newbury Park</td>\n",
       "      <td>Food service/restaurant</td>\n",
       "      <td>791 Wendy Drive</td>\n",
       "      <td>Newbury Park</td>\n",
       "      <td>1610496000000</td>\n",
       "      <td>2021-01-13</td>\n",
       "    </tr>\n",
       "    <tr>\n",
       "      <th>68</th>\n",
       "      <td>Target Optical</td>\n",
       "      <td>Retail space (including grocery stores)</td>\n",
       "      <td>2705 Teller Rd.</td>\n",
       "      <td>Thousand Oaks</td>\n",
       "      <td>1610064000000</td>\n",
       "      <td>2021-01-08</td>\n",
       "    </tr>\n",
       "    <tr>\n",
       "      <th>69</th>\n",
       "      <td>Nordstrom Thousand Oaks</td>\n",
       "      <td>Retail space (including grocery stores)</td>\n",
       "      <td>350 West Hillcrest Drive</td>\n",
       "      <td>Thousand Oaks</td>\n",
       "      <td>1609977600000</td>\n",
       "      <td>2021-01-07</td>\n",
       "    </tr>\n",
       "    <tr>\n",
       "      <th>70</th>\n",
       "      <td>Conejo Valley Veterinary Hospital</td>\n",
       "      <td>Animal services (e.g., animal shelter/control,...</td>\n",
       "      <td>3580 Willow Lane</td>\n",
       "      <td>Thousand Oaks</td>\n",
       "      <td>1610064000000</td>\n",
       "      <td>2021-01-08</td>\n",
       "    </tr>\n",
       "    <tr>\n",
       "      <th>71</th>\n",
       "      <td>The Cheesecake Factory - Thousand Oaks</td>\n",
       "      <td>Food service/restaurant</td>\n",
       "      <td>442 West Hillcrest Drive</td>\n",
       "      <td>Thousand Oaks</td>\n",
       "      <td>1610582400000</td>\n",
       "      <td>2021-01-14</td>\n",
       "    </tr>\n",
       "    <tr>\n",
       "      <th>72</th>\n",
       "      <td>Urbane Cafe - Thousand Oaks</td>\n",
       "      <td>Food service/restaurant</td>\n",
       "      <td>50 Thousand Oaks Boulevard</td>\n",
       "      <td>Thousand Oaks</td>\n",
       "      <td>1610409600000</td>\n",
       "      <td>2021-01-12</td>\n",
       "    </tr>\n",
       "    <tr>\n",
       "      <th>73</th>\n",
       "      <td>Michael &amp; Associates Law Firm</td>\n",
       "      <td>Office space/workspace</td>\n",
       "      <td>555 Saint Charles Drive, Suite 204</td>\n",
       "      <td>Thousand Oaks</td>\n",
       "      <td>1610409600000</td>\n",
       "      <td>2021-01-12</td>\n",
       "    </tr>\n",
       "    <tr>\n",
       "      <th>74</th>\n",
       "      <td>Michael &amp; Associates, PC</td>\n",
       "      <td>Office space/workspace</td>\n",
       "      <td>555 St. Charles Drive, Suite 204</td>\n",
       "      <td>Thousand Oaks</td>\n",
       "      <td>1610496000000</td>\n",
       "      <td>2021-01-13</td>\n",
       "    </tr>\n",
       "    <tr>\n",
       "      <th>75</th>\n",
       "      <td>Little Calf Creamery</td>\n",
       "      <td>Food service/restaurant</td>\n",
       "      <td>652 East Janss Road</td>\n",
       "      <td>Thousand Oaks</td>\n",
       "      <td>1610496000000</td>\n",
       "      <td>2021-01-13</td>\n",
       "    </tr>\n",
       "    <tr>\n",
       "      <th>90</th>\n",
       "      <td>Agoura Sash and Door, Inc.</td>\n",
       "      <td>Other (specify)</td>\n",
       "      <td>2301 Townsgate Road</td>\n",
       "      <td>Westlake Village</td>\n",
       "      <td>1610496000000</td>\n",
       "      <td>2021-01-13</td>\n",
       "    </tr>\n",
       "    <tr>\n",
       "      <th>91</th>\n",
       "      <td>Trader Joe's - Westlake Village</td>\n",
       "      <td>Retail space (including grocery stores)</td>\n",
       "      <td>3835 East Thousand Oaks Boulevard</td>\n",
       "      <td>Westlake Village</td>\n",
       "      <td>1610496000000</td>\n",
       "      <td>2021-01-13</td>\n",
       "    </tr>\n",
       "  </tbody>\n",
       "</table>\n",
       "</div>"
      ],
      "text/plain": [
       "                             business_name  \\\n",
       "14                Skyworks Solutions, Inc.   \n",
       "15                     Panda Express  N.P.   \n",
       "16                Taco Bell - Newbury Park   \n",
       "68                          Target Optical   \n",
       "69                 Nordstrom Thousand Oaks   \n",
       "70       Conejo Valley Veterinary Hospital   \n",
       "71  The Cheesecake Factory - Thousand Oaks   \n",
       "72             Urbane Cafe - Thousand Oaks   \n",
       "73           Michael & Associates Law Firm   \n",
       "74                Michael & Associates, PC   \n",
       "75                    Little Calf Creamery   \n",
       "90              Agoura Sash and Door, Inc.   \n",
       "91         Trader Joe's - Westlake Village   \n",
       "\n",
       "                                        business_type  \\\n",
       "14                                Other manufacturing   \n",
       "15                            Food service/restaurant   \n",
       "16                            Food service/restaurant   \n",
       "68            Retail space (including grocery stores)   \n",
       "69            Retail space (including grocery stores)   \n",
       "70  Animal services (e.g., animal shelter/control,...   \n",
       "71                            Food service/restaurant   \n",
       "72                            Food service/restaurant   \n",
       "73                             Office space/workspace   \n",
       "74                             Office space/workspace   \n",
       "75                            Food service/restaurant   \n",
       "90                                    Other (specify)   \n",
       "91            Retail space (including grocery stores)   \n",
       "\n",
       "                               address              city      timestamp  \\\n",
       "14    2421 / 2427 West Hillcrest Drive      Newbury Park  1610582400000   \n",
       "15                         2690 Teller      Newbury Park  1610064000000   \n",
       "16                     791 Wendy Drive      Newbury Park  1610496000000   \n",
       "68                     2705 Teller Rd.     Thousand Oaks  1610064000000   \n",
       "69            350 West Hillcrest Drive     Thousand Oaks  1609977600000   \n",
       "70                    3580 Willow Lane     Thousand Oaks  1610064000000   \n",
       "71            442 West Hillcrest Drive     Thousand Oaks  1610582400000   \n",
       "72          50 Thousand Oaks Boulevard     Thousand Oaks  1610409600000   \n",
       "73  555 Saint Charles Drive, Suite 204     Thousand Oaks  1610409600000   \n",
       "74    555 St. Charles Drive, Suite 204     Thousand Oaks  1610496000000   \n",
       "75                 652 East Janss Road     Thousand Oaks  1610496000000   \n",
       "90                 2301 Townsgate Road  Westlake Village  1610496000000   \n",
       "91   3835 East Thousand Oaks Boulevard  Westlake Village  1610496000000   \n",
       "\n",
       "         date  \n",
       "14 2021-01-14  \n",
       "15 2021-01-08  \n",
       "16 2021-01-13  \n",
       "68 2021-01-08  \n",
       "69 2021-01-07  \n",
       "70 2021-01-08  \n",
       "71 2021-01-14  \n",
       "72 2021-01-12  \n",
       "73 2021-01-12  \n",
       "74 2021-01-13  \n",
       "75 2021-01-13  \n",
       "90 2021-01-13  \n",
       "91 2021-01-13  "
      ]
     },
     "execution_count": 76,
     "metadata": {},
     "output_type": "execute_result"
    }
   ],
   "source": [
    "df[(df.city == \"Thousand Oaks\")| (df.city == \"Newbury Park\") | (df.city == \"Westlake Village\")]"
   ]
  },
  {
   "cell_type": "markdown",
   "metadata": {},
   "source": [
    "---\n",
    "#### Export"
   ]
  },
  {
   "cell_type": "code",
   "execution_count": 77,
   "metadata": {},
   "outputs": [],
   "source": [
    "today = datetime.date.today()"
   ]
  },
  {
   "cell_type": "code",
   "execution_count": 78,
   "metadata": {},
   "outputs": [],
   "source": [
    "df['download_date'] = today"
   ]
  },
  {
   "cell_type": "code",
   "execution_count": 79,
   "metadata": {},
   "outputs": [],
   "source": [
    "df = df.drop(['timestamp'],axis=1)"
   ]
  },
  {
   "cell_type": "code",
   "execution_count": 80,
   "metadata": {},
   "outputs": [],
   "source": [
    "df['date'] = df['date'].dt.strftime('%Y-%m-%d')"
   ]
  },
  {
   "cell_type": "code",
   "execution_count": 92,
   "metadata": {},
   "outputs": [],
   "source": [
    "df['download_date'] = pd.to_datetime(df['download_date'])"
   ]
  },
  {
   "cell_type": "code",
   "execution_count": 94,
   "metadata": {},
   "outputs": [],
   "source": [
    "df.to_csv(f'../data/csv/{today}.csv',index=False)"
   ]
  },
  {
   "cell_type": "code",
   "execution_count": 95,
   "metadata": {},
   "outputs": [],
   "source": [
    "df.to_json(f'../_data/latest.json',orient='records',date_format='iso')"
   ]
  }
 ],
 "metadata": {
  "kernelspec": {
   "display_name": "Python 3",
   "language": "python",
   "name": "python3"
  },
  "language_info": {
   "codemirror_mode": {
    "name": "ipython",
    "version": 3
   },
   "file_extension": ".py",
   "mimetype": "text/x-python",
   "name": "python",
   "nbconvert_exporter": "python",
   "pygments_lexer": "ipython3",
   "version": "3.7.9"
  }
 },
 "nbformat": 4,
 "nbformat_minor": 4
}
