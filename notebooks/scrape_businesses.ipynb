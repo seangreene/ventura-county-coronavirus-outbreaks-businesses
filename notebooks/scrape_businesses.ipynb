{
 "cells": [
  {
   "cell_type": "code",
   "execution_count": 1,
   "metadata": {},
   "outputs": [],
   "source": [
    "import requests\n",
    "import json\n",
    "import pandas as pd\n",
    "import datetime"
   ]
  },
  {
   "cell_type": "code",
   "execution_count": 2,
   "metadata": {},
   "outputs": [],
   "source": [
    "url = (\n",
    "    \"https://wabi-us-gov-virginia-api.analysis.usgovcloudapi.net/public/reports/querydata\"\n",
    ")"
   ]
  },
  {
   "cell_type": "code",
   "execution_count": 3,
   "metadata": {},
   "outputs": [],
   "source": [
    "params = ((\"synchronous\", \"true\"), (\"Connection\", \"keep-alive\"))"
   ]
  },
  {
   "cell_type": "code",
   "execution_count": 4,
   "metadata": {},
   "outputs": [],
   "source": [
    "headers = {\n",
    "\"Host\": \"wabi-us-gov-virginia-api.analysis.usgovcloudapi.net\",\n",
    "\"Connection\": \"keep-alive\",\n",
    "\"Content-Length\": \"3199\",\n",
    "\"Pragma\": \"no-cache\",\n",
    "\"Cache-Control\": \"no-cache\",\n",
    "\"Accept\": \"application/json, text/plain, */*\",\n",
    "\"RequestId\": \"a71747f7-be8d-f0e8-6964-80c01e2af60b\",\n",
    "\"DNT\": \"1\",\n",
    "\"X-PowerBI-ResourceKey\": \"c7c36864-4c68-4836-a622-adddb1a61808\",\n",
    "\"Content-Type\": \"application/json;charset=UTF-8\",\n",
    "\"User-Agent\": \"Mozilla/5.0 (Macintosh; Intel Mac OS X 10_13_6) AppleWebKit/537.36 (KHTML, like Gecko) Chrome/87.0.4280.88 Safari/537.36\",\n",
    "\"ActivityId\": \"0f5337d4-2c7c-82a9-294a-f2655624bb52\",\n",
    "\"Origin\": \"https://app.powerbigov.us\",\n",
    "\"Sec-Fetch-Site\": \"cross-site\",\n",
    "\"Sec-Fetch-Mode\": \"cors\",\n",
    "\"Sec-Fetch-Dest\": \"empty\",\n",
    "\"Referer\": \"https://app.powerbigov.us/\",\n",
    "\"Accept-Encoding\": \"gzip, deflate, br\",\n",
    "\"Accept-Language\": \"en-US,en;q=0.9,da;q=0.8\",\n",
    "}"
   ]
  },
  {
   "cell_type": "code",
   "execution_count": 5,
   "metadata": {},
   "outputs": [],
   "source": [
    "proxies = {\n",
    "  \"http\": None,\n",
    "  \"https\": None,\n",
    "}"
   ]
  },
  {
   "cell_type": "code",
   "execution_count": 6,
   "metadata": {},
   "outputs": [],
   "source": [
    "body='{\"version\":\"1.0.0\",\"queries\":[{\"Query\":{\"Commands\":[{\"SemanticQueryDataShapeCommand\":{\"Query\":{\"Version\":2,\"From\":[{\"Name\":\"v\",\"Entity\":\"BusinessOutBreaks\",\"Type\":0}],\"Select\":[{\"Column\":{\"Expression\":{\"SourceRef\":{\"Source\":\"v\"}},\"Property\":\"Location: State/Province\"},\"Name\":\"VCPH_Workplaces - Outbreaks by (2).Location: State/Province\"},{\"Column\":{\"Expression\":{\"SourceRef\":{\"Source\":\"v\"}},\"Property\":\"Location: City\"},\"Name\":\"VCPH_Workplaces - Outbreaks by (2).Location: City\"},{\"Column\":{\"Expression\":{\"SourceRef\":{\"Source\":\"v\"}},\"Property\":\"Location: Street\"},\"Name\":\"VCPH_Workplaces - Outbreaks by (2).Location: Street\"},{\"Aggregation\":{\"Expression\":{\"Column\":{\"Expression\":{\"SourceRef\":{\"Source\":\"v\"}},\"Property\":\"Location: Account Name +\"}},\"Function\":3},\"Name\":\"Min(VCPH_Workplaces - Outbreaks by (2).Location: Account Name +)\"},{\"Column\":{\"Expression\":{\"SourceRef\":{\"Source\":\"v\"}},\"Property\":\"Location Type  ↑\"},\"Name\":\"VCPH_Workplaces - Outbreaks by (2).Location Type  ↑\"},{\"Aggregation\":{\"Expression\":{\"Column\":{\"Expression\":{\"SourceRef\":{\"Source\":\"v\"}},\"Property\":\"Exposure Event: Created Date\"}},\"Function\":3},\"Name\":\"Min(BusinessOutBreaks.Exposure Event: Created Date)\"}]},\"Binding\":{\"Primary\":{\"Groupings\":[{\"Projections\":[0,1,2,3,5]}]},\"Secondary\":{\"Groupings\":[{\"Projections\":[4]}]},\"DataReduction\":{\"DataVolume\":4,\"Primary\":{\"Top\":{}},\"Secondary\":{\"Top\":{}}},\"SuppressedJoinPredicates\":[3,5],\"Version\":1}}}]},\"CacheKey\":\"{\\\\\"Commands\\\\\":[{\\\\\"SemanticQueryDataShapeCommand\\\\\":{\\\\\"Query\\\\\":{\\\\\"Version\\\\\":2,\\\\\"From\\\\\":[{\\\\\"Name\\\\\":\\\\\"v\\\\\",\\\\\"Entity\\\\\":\\\\\"BusinessOutBreaks\\\\\",\\\\\"Type\\\\\":0}],\\\\\"Select\\\\\":[{\\\\\"Column\\\\\":{\\\\\"Expression\\\\\":{\\\\\"SourceRef\\\\\":{\\\\\"Source\\\\\":\\\\\"v\\\\\"}},\\\\\"Property\\\\\":\\\\\"Location: State/Province\\\\\"},\\\\\"Name\\\\\":\\\\\"VCPH_Workplaces - Outbreaks by (2).Location: State/Province\\\\\"},{\\\\\"Column\\\\\":{\\\\\"Expression\\\\\":{\\\\\"SourceRef\\\\\":{\\\\\"Source\\\\\":\\\\\"v\\\\\"}},\\\\\"Property\\\\\":\\\\\"Location: City\\\\\"},\\\\\"Name\\\\\":\\\\\"VCPH_Workplaces - Outbreaks by (2).Location: City\\\\\"},{\\\\\"Column\\\\\":{\\\\\"Expression\\\\\":{\\\\\"SourceRef\\\\\":{\\\\\"Source\\\\\":\\\\\"v\\\\\"}},\\\\\"Property\\\\\":\\\\\"Location: Street\\\\\"},\\\\\"Name\\\\\":\\\\\"VCPH_Workplaces - Outbreaks by (2).Location: Street\\\\\"},{\\\\\"Aggregation\\\\\":{\\\\\"Expression\\\\\":{\\\\\"Column\\\\\":{\\\\\"Expression\\\\\":{\\\\\"SourceRef\\\\\":{\\\\\"Source\\\\\":\\\\\"v\\\\\"}},\\\\\"Property\\\\\":\\\\\"Location: Account Name +\\\\\"}},\\\\\"Function\\\\\":3},\\\\\"Name\\\\\":\\\\\"Min(VCPH_Workplaces - Outbreaks by (2).Location: Account Name +)\\\\\"},{\\\\\"Column\\\\\":{\\\\\"Expression\\\\\":{\\\\\"SourceRef\\\\\":{\\\\\"Source\\\\\":\\\\\"v\\\\\"}},\\\\\"Property\\\\\":\\\\\"Location Type  ↑\\\\\"},\\\\\"Name\\\\\":\\\\\"VCPH_Workplaces - Outbreaks by (2).Location Type  ↑\\\\\"},{\\\\\"Aggregation\\\\\":{\\\\\"Expression\\\\\":{\\\\\"Column\\\\\":{\\\\\"Expression\\\\\":{\\\\\"SourceRef\\\\\":{\\\\\"Source\\\\\":\\\\\"v\\\\\"}},\\\\\"Property\\\\\":\\\\\"Exposure Event: Created Date\\\\\"}},\\\\\"Function\\\\\":3},\\\\\"Name\\\\\":\\\\\"Min(BusinessOutBreaks.Exposure Event: Created Date)\\\\\"}]},\\\\\"Binding\\\\\":{\\\\\"Primary\\\\\":{\\\\\"Groupings\\\\\":[{\\\\\"Projections\\\\\":[0,1,2,3,5]}]},\\\\\"Secondary\\\\\":{\\\\\"Groupings\\\\\":[{\\\\\"Projections\\\\\":[4]}]},\\\\\"DataReduction\\\\\":{\\\\\"DataVolume\\\\\":4,\\\\\"Primary\\\\\":{\\\\\"Top\\\\\":{}},\\\\\"Secondary\\\\\":{\\\\\"Top\\\\\":{}}},\\\\\"SuppressedJoinPredicates\\\\\":[3,5],\\\\\"Version\\\\\":1}}}]}\",\"QueryId\":\"\",\"ApplicationContext\":{\"DatasetId\":\"82fe8719-09b2-432f-beb1-86a79c585e4e\",\"Sources\":[{\"ReportId\":\"7cbcb555-a5cc-4e58-8f08-c19d7b85bcb2\"}]}}],\"cancelQueries\":[],\"modelId\":397144}'"
   ]
  },
  {
   "cell_type": "code",
   "execution_count": 7,
   "metadata": {},
   "outputs": [],
   "source": [
    "json_data = json.loads(body)"
   ]
  },
  {
   "cell_type": "code",
   "execution_count": 8,
   "metadata": {},
   "outputs": [
    {
     "name": "stderr",
     "output_type": "stream",
     "text": [
      "/Users/sgreene/.local/share/virtualenvs/projects-pQzHlJTk/lib/python3.7/site-packages/urllib3/connectionpool.py:1020: InsecureRequestWarning: Unverified HTTPS request is being made to host 'wabi-us-gov-virginia-api.analysis.usgovcloudapi.net'. Adding certificate verification is strongly advised. See: https://urllib3.readthedocs.io/en/latest/advanced-usage.html#ssl-warnings\n",
      "  InsecureRequestWarning,\n"
     ]
    }
   ],
   "source": [
    "response = requests.post(\n",
    "    url,\n",
    "    params=params,\n",
    "    headers=headers,\n",
    "    json=json_data,\n",
    "    verify=False,\n",
    "    proxies=proxies\n",
    ")"
   ]
  },
  {
   "cell_type": "code",
   "execution_count": 9,
   "metadata": {},
   "outputs": [],
   "source": [
    "data = response.json()"
   ]
  },
  {
   "cell_type": "code",
   "execution_count": 10,
   "metadata": {},
   "outputs": [],
   "source": [
    "types = data[\"results\"][0][\"result\"][\"data\"][\"dsr\"]['DS'][0]['SH'][0]['DM1']"
   ]
  },
  {
   "cell_type": "code",
   "execution_count": 11,
   "metadata": {},
   "outputs": [],
   "source": [
    "groupings = []\n",
    "for grouping in types:\n",
    "    groupings.append(grouping['G3'])"
   ]
  },
  {
   "cell_type": "code",
   "execution_count": 12,
   "metadata": {},
   "outputs": [
    {
     "data": {
      "text/plain": [
       "['Accommodations (e.g. hotel, hostel, motel)',\n",
       " 'Agricultural operations',\n",
       " 'Airline/maritime travel (e.g. flights, cruise ships)',\n",
       " 'Animal services (e.g., animal shelter/control, veterinary clinic)',\n",
       " 'Auto services (e.g., auto repair, gas station, car wash)',\n",
       " 'Bank/financial services',\n",
       " 'Daycare/Preschool',\n",
       " 'Distribution warehouse',\n",
       " 'Factory/manufacturing plant',\n",
       " 'Food processing/manufacturing (other than meat)',\n",
       " 'Food service/restaurant',\n",
       " 'Office space/workspace',\n",
       " 'Other (specify)',\n",
       " 'Other manufacturing',\n",
       " 'Other medical facility',\n",
       " 'Place of worship',\n",
       " 'Retail space (including grocery stores)',\n",
       " 'Urgent care center/clinic']"
      ]
     },
     "execution_count": 12,
     "metadata": {},
     "output_type": "execute_result"
    }
   ],
   "source": [
    "groupings"
   ]
  },
  {
   "cell_type": "code",
   "execution_count": 13,
   "metadata": {},
   "outputs": [],
   "source": [
    "ds = data[\"results\"][0][\"result\"][\"data\"][\"dsr\"][\"DS\"][0]"
   ]
  },
  {
   "cell_type": "code",
   "execution_count": 14,
   "metadata": {},
   "outputs": [],
   "source": [
    "state = ds[\"ValueDicts\"][\"D0\"]"
   ]
  },
  {
   "cell_type": "code",
   "execution_count": 15,
   "metadata": {},
   "outputs": [],
   "source": [
    "cities = ds[\"ValueDicts\"][\"D1\"]"
   ]
  },
  {
   "cell_type": "code",
   "execution_count": 16,
   "metadata": {},
   "outputs": [],
   "source": [
    "addresses = ds[\"ValueDicts\"][\"D2\"]"
   ]
  },
  {
   "cell_type": "code",
   "execution_count": 17,
   "metadata": {},
   "outputs": [],
   "source": [
    "names = ds[\"ValueDicts\"][\"D3\"]"
   ]
  },
  {
   "cell_type": "code",
   "execution_count": 91,
   "metadata": {},
   "outputs": [
    {
     "data": {
      "text/plain": [
       "['Zume, Inc.',\n",
       " 'Channel Islands Aviation, Inc.',\n",
       " 'Hi-Temp Insulation, Inc - Building 1 & 2',\n",
       " 'New Balance Athletics - Camarillo',\n",
       " 'Crocs Retail, LLC',\n",
       " 'Columbia Brands USA, LLC  Cam.',\n",
       " 'Polo Ralph Lauren Factory Store at Camarillo Premium Outlets',\n",
       " 'Gared Graphics, Inc.',\n",
       " 'El Pescador #12, Inc.',\n",
       " 'Devil Mountain Wholesale Nursery',\n",
       " 'Benchmark Electronics',\n",
       " 'Picnic Time, Inc.',\n",
       " 'Wells Fargo Moorpark',\n",
       " 'Skyworks Solutions, Inc.',\n",
       " 'Panda Express  N.P.',\n",
       " 'Taco Bell - Newbury Park',\n",
       " 'Ojai Valley Inn and Spa',\n",
       " 'Fidelity National Title Company',\n",
       " 'Commercial Cooler Western Precooling',\n",
       " 'Seed Beauty #3',\n",
       " 'Goodwill Industries of Ventura and Santa Barbara Counties',\n",
       " 'Seed Beauty #1',\n",
       " 'Plascene, Inc.',\n",
       " 'Seed Beauty #2',\n",
       " 'Panda Express - South Oxnard',\n",
       " 'Urbane Cafe - Oxnard',\n",
       " 'Team Nissan of Oxnard',\n",
       " 'Costco Wholesale - Oxnard',\n",
       " 'Limoneira',\n",
       " 'Mercy Crusade Inc. Spay Neuter & Wellness Clinic',\n",
       " 'Ventura Pacific Company',\n",
       " 'Mission Produce, Inc',\n",
       " 'Wiggins Lift Co',\n",
       " 'Toppers Pizza Place Channel Islands',\n",
       " 'Jack in the Box - Oxnard (Rose Ave.)',\n",
       " 'HAAS',\n",
       " 'Santa Clara Church',\n",
       " 'Drum Workshop, Inc.',\n",
       " 'Complyright Distributions Services, Inc.',\n",
       " 'Mirror Metals, Inc',\n",
       " 'In-N-Out Burger - Oxnard',\n",
       " 'Coastal Pediatric Medical Group, Inc.',\n",
       " 'PTI Technologies',\n",
       " 'Duda Farm Fresh Foods',\n",
       " 'PAC Foundries',\n",
       " 'GLOVIS AMERICA, INC',\n",
       " 'United Staffing Associates',\n",
       " 'Armstrong Growers',\n",
       " 'Taco Bell - Santa Paula',\n",
       " 'Panda Express - Santa Paula',\n",
       " 'Saticoy Foods Corporation',\n",
       " \"Albertson's Inc\",\n",
       " 'Tutor Time - Simi Valley',\n",
       " \"Lowe's Home Improvement - Simi Valley\",\n",
       " 'Panda Express S V',\n",
       " 'Meggitt Safety Systems, Inc.',\n",
       " 'PSI Bearings',\n",
       " 'Toppers Pizza Place, Simi Valley',\n",
       " 'Chick-Fil-A - Simi Valley',\n",
       " 'Costco Wholesale - Simi Valley',\n",
       " 'Wells Fargo Simi Valley',\n",
       " 'Green Acres Farm Mkt. & Catering',\n",
       " \"Trader Joe's - Simi Valley\",\n",
       " 'Milgard Windows & Doors',\n",
       " 'Nagel Orthodontics',\n",
       " 'The Home Depot S.V.',\n",
       " 'Target Optical',\n",
       " 'Nordstrom Thousand Oaks',\n",
       " 'Conejo Valley Veterinary Hospital',\n",
       " 'The Cheesecake Factory - Thousand Oaks',\n",
       " 'Urbane Cafe - Thousand Oaks',\n",
       " 'Michael & Associates Law Firm',\n",
       " 'Michael & Associates, PC',\n",
       " 'Little Calf Creamery',\n",
       " \"Trader Joe's - Ventura (S. Mills Rd.)\",\n",
       " 'Jack in the Box - Saticoy',\n",
       " 'County of Ventura - General Services Agency',\n",
       " 'Island View Gastoenterology Associates',\n",
       " \"Trader Joe's - Ventura (S. Victoria Ave.)\",\n",
       " 'UPS - Ventura',\n",
       " \"Contractor's Warehouse\",\n",
       " 'Wood Ranch BBQ and Grill  Ventura',\n",
       " 'JC Penney',\n",
       " 'Santa Barbara Eyeglass Factory',\n",
       " 'WinCo Foods',\n",
       " \"Lowe's - Ventura\",\n",
       " 'Ventura County Treasure - Tax Collector',\n",
       " 'E.J. Harrison & Sons, INC.',\n",
       " 'Agoura Sash and Door, Inc.',\n",
       " \"Trader Joe's - Westlake Village\"]"
      ]
     },
     "execution_count": 91,
     "metadata": {},
     "output_type": "execute_result"
    }
   ],
   "source": [
    "names"
   ]
  },
  {
   "cell_type": "code",
   "execution_count": 18,
   "metadata": {},
   "outputs": [],
   "source": [
    "rows = ds[\"PH\"][0][\"DM0\"]"
   ]
  },
  {
   "cell_type": "code",
   "execution_count": 72,
   "metadata": {},
   "outputs": [
    {
     "data": {
      "text/plain": [
       "{'C': [4, 16], 'R': 1, 'X': [{'C': [16, 1609891200000]}]}"
      ]
     },
     "execution_count": 72,
     "metadata": {},
     "output_type": "execute_result"
    }
   ],
   "source": [
    "rows[16]"
   ]
  },
  {
   "cell_type": "code",
   "execution_count": 109,
   "metadata": {},
   "outputs": [
    {
     "name": "stdout",
     "output_type": "stream",
     "text": [
      "[0, 1610496000000]\n",
      "[1, 1610409600000]\n",
      "[2, 1610582400000]\n",
      "[3, 1610409600000]\n",
      "[4, 1610496000000]\n",
      "[5, 1610064000000]\n",
      "[6, 1609977600000]\n",
      "[7, 1610064000000]\n",
      "[8, 1610323200000]\n",
      "[9, 1610582400000]\n",
      "[10, 1610496000000]\n",
      "[11, 1610323200000]\n",
      "[12, 1610064000000]\n",
      "[13, 1610582400000]\n",
      "[14, 1610064000000]\n",
      "[15, 1610496000000]\n",
      "[16, 1609891200000]\n",
      "[17, 1609977600000]\n",
      "[19, 1610409600000]\n",
      "[20, 1609891200000]\n",
      "[21, 1610409600000]\n",
      "[22, 1610323200000]\n",
      "[23, 1610409600000]\n",
      "[24, 1610323200000]\n",
      "[25, 1610409600000]\n",
      "[26, 1610582400000]\n",
      "[27, 1610496000000]\n",
      "[28, 1610064000000]\n",
      "[30, 1609718400000]\n",
      "[31, 1610409600000]\n",
      "[32, 1610496000000]\n",
      "[33, 1610409600000]\n",
      "[35, 1610064000000]\n",
      "[36, 1610668800000]\n",
      "[37, 1610496000000]\n",
      "[39, 1610409600000]\n",
      "[40, 1610323200000]\n",
      "[42, 1609977600000]\n",
      "[43, 1609891200000]\n",
      "[44, 1610409600000]\n",
      "[45, 1610064000000]\n",
      "[46, 1610582400000]\n",
      "[28, 1609891200000]\n",
      "[47, 1610582400000]\n",
      "[48, 1610323200000]\n",
      "[49, 1610496000000]\n",
      "[50, 1609977600000]\n",
      "[51, 1610064000000]\n",
      "[52, 1610496000000]\n",
      "[54, 1610064000000]\n",
      "[55, 1610409600000]\n",
      "[56, 1610064000000]\n",
      "[57, 1610409600000]\n",
      "[58, 1610323200000]\n",
      "[59, 1610496000000]\n",
      "[60, 1609977600000]\n",
      "[61, 1610323200000]\n",
      "[62, 1610496000000]\n",
      "[63, 1610064000000]\n",
      "[67, 1609977600000]\n",
      "[68, 1610064000000]\n",
      "[69, 1610582400000]\n",
      "[70, 1610409600000]\n",
      "[72, 1610496000000]\n",
      "[75, 1610409600000]\n",
      "[76, 1610582400000]\n",
      "[77, 1610323200000]\n",
      "[78, 1610496000000]\n",
      "[79, 1610582400000]\n",
      "[80, 1610323200000]\n",
      "[82, 1609977600000]\n",
      "[83, 1610409600000]\n",
      "[84, 1610064000000]\n",
      "[85, 1610496000000]\n",
      "[86, 1610064000000]\n",
      "[87, 1610323200000]\n",
      "[88, 1610496000000]\n"
     ]
    }
   ],
   "source": [
    "locations = []\n",
    "\n",
    "for row in rows:\n",
    "    keys = row.keys()\n",
    "\n",
    "    cells = row['X']\n",
    "\n",
    "    info = row['C']\n",
    "        \n",
    "    if \"R\" not in keys:\n",
    "\n",
    "        state = info[0]\n",
    "        address = info[1]\n",
    "        city = info[2]\n",
    "        \n",
    "    elif row[\"R\"] == 1:\n",
    "        city = info[0]\n",
    "        address = info[1]\n",
    "    else:\n",
    "        address = info[0]\n",
    "    \n",
    "    for cell in cells:\n",
    "        cell_keys = cell.keys()\n",
    "        \n",
    "        if \"S\" not in cell_keys:\n",
    "            name = cell['C'][0]\n",
    "            if \"R\" not in cell:\n",
    "                print(cell['C'])\n",
    "            try:\n",
    "                business_type = cell['I']\n",
    "            except:\n",
    "                business_type = 0\n",
    "            #if \"R\" not in cell_keys:\n",
    "                #business_type = cell\n",
    "                #print(business_type)\n",
    "            #else:\n",
    "                #business_type = cell\n",
    "                #print(business_type)\n",
    "\n",
    "#             try:\n",
    "#                 business_type = cell['I']\n",
    "#             except:\n",
    "#                 business_type = 0\n",
    "            \n",
    "            #if \"R\" not in cell_keys:\n",
    "            #    date = cell['C'][1]\n",
    "        locations.append(\n",
    "            (\n",
    "                name,\n",
    "                business_type,\n",
    "                address,\n",
    "                city,\n",
    "                #date,\n",
    "            )\n",
    "        )"
   ]
  },
  {
   "cell_type": "code",
   "execution_count": null,
   "metadata": {},
   "outputs": [],
   "source": [
    "matched = [\n",
    "    (names[name], groupings[business_type], addresses[address], cities[city], date) for name, business_type, address, city, date in locations\n",
    "]"
   ]
  },
  {
   "cell_type": "code",
   "execution_count": null,
   "metadata": {},
   "outputs": [],
   "source": [
    "df = pd.DataFrame(matched, columns=[\"business_name\", \"business_type\",\"address\",\"city\",\"date\"])"
   ]
  },
  {
   "cell_type": "code",
   "execution_count": null,
   "metadata": {},
   "outputs": [],
   "source": [
    "df = df.drop(df.index[0])"
   ]
  },
  {
   "cell_type": "code",
   "execution_count": null,
   "metadata": {},
   "outputs": [],
   "source": [
    "df.business_type.value_counts()"
   ]
  },
  {
   "cell_type": "code",
   "execution_count": null,
   "metadata": {},
   "outputs": [],
   "source": [
    "df.city.value_counts()"
   ]
  },
  {
   "cell_type": "code",
   "execution_count": null,
   "metadata": {},
   "outputs": [],
   "source": [
    "df[(df.city == \"Thousand Oaks\")| (df.city == \"Newbury Park\") | (df.city == \"Westlake Village\")]"
   ]
  },
  {
   "cell_type": "code",
   "execution_count": null,
   "metadata": {},
   "outputs": [],
   "source": [
    "today = datetime.date.today()"
   ]
  },
  {
   "cell_type": "code",
   "execution_count": null,
   "metadata": {},
   "outputs": [],
   "source": [
    "df['download_date'] = today"
   ]
  },
  {
   "cell_type": "code",
   "execution_count": null,
   "metadata": {},
   "outputs": [],
   "source": [
    "df.to_csv(f'../data/csv/{today}.csv',index=False)"
   ]
  },
  {
   "cell_type": "code",
   "execution_count": null,
   "metadata": {},
   "outputs": [],
   "source": [
    "df.to_json(f'../data/json/{today}.json',orient='records')"
   ]
  }
 ],
 "metadata": {
  "kernelspec": {
   "display_name": "Python 3",
   "language": "python",
   "name": "python3"
  },
  "language_info": {
   "codemirror_mode": {
    "name": "ipython",
    "version": 3
   },
   "file_extension": ".py",
   "mimetype": "text/x-python",
   "name": "python",
   "nbconvert_exporter": "python",
   "pygments_lexer": "ipython3",
   "version": "3.7.9"
  }
 },
 "nbformat": 4,
 "nbformat_minor": 4
}
