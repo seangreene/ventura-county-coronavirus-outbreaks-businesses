{
 "cells": [
  {
   "cell_type": "code",
   "execution_count": 28,
   "metadata": {},
   "outputs": [],
   "source": [
    "import requests\n",
    "import json\n",
    "import pandas as pd\n",
    "from datetime import date"
   ]
  },
  {
   "cell_type": "code",
   "execution_count": 29,
   "metadata": {},
   "outputs": [],
   "source": [
    "url = (\n",
    "    \"https://wabi-us-gov-virginia-api.analysis.usgovcloudapi.net/public/reports/querydata\"\n",
    ")"
   ]
  },
  {
   "cell_type": "code",
   "execution_count": 30,
   "metadata": {},
   "outputs": [],
   "source": [
    "params = ((\"synchronous\", \"true\"), (\"Connection\", \"keep-alive\"))"
   ]
  },
  {
   "cell_type": "code",
   "execution_count": 31,
   "metadata": {},
   "outputs": [],
   "source": [
    "headers = {\n",
    "    \"Host\": \"wabi-us-gov-virginia-api.analysis.usgovcloudapi.net\",\n",
    "    \"Content-Length\": \"2763\",\n",
    "    \"Pragma\": \"no-cache\",\n",
    "    \"Cache-Control\": \"no-cache\",\n",
    "    \"Accept\": \"application/json, text/plain, */*\",\n",
    "    \"RequestId\": \"7ce9165b-8761-d9a3-4628-7e7289a433ee\",\n",
    "    \"DNT\": \"1\",\n",
    "    \"X-PowerBI-ResourceKey\": \"4f03a264-7a3c-451e-ba2d-c7bb0b5a02de\",\n",
    "    \"Content-Type\": \"application/json;charset=UTF-8\",\n",
    "    \"User-Agent\": \"Mozilla/5.0 (Macintosh; Intel Mac OS X 10_13_6) AppleWebKit/537.36 (KHTML, like Gecko) Chrome/87.0.4280.88 Safari/537.36\",\n",
    "    \"ActivityId\": \"759ff4ea-88fa-9bea-1e7c-53dfbf06637a\",\n",
    "    \"Origin\": \"https://app.powerbigov.us\",\n",
    "    \"Sec-Fetch-Site\": \"cross-site\",\n",
    "    \"Sec-Fetch-Mode\": \"cors\",\n",
    "    \"Sec-Fetch-Dest\": \"empty\",\n",
    "    \"Referer\": \"https://app.powerbigov.us/\",\n",
    "    \"Accept-Encoding\": \"gzip, deflate, br\",\n",
    "    \"Accept-Language\": \"en-US,en;q=0.9,da;q=0.8\",\n",
    "}"
   ]
  },
  {
   "cell_type": "code",
   "execution_count": 32,
   "metadata": {},
   "outputs": [],
   "source": [
    "proxies = {\n",
    "  \"http\": None,\n",
    "  \"https\": None,\n",
    "}"
   ]
  },
  {
   "cell_type": "code",
   "execution_count": 33,
   "metadata": {},
   "outputs": [],
   "source": [
    "body = '{\"version\":\"1.0.0\",\"queries\":[{\"Query\":{\"Commands\":[{\"SemanticQueryDataShapeCommand\":{\"Query\":{\"Version\":2,\"From\":[{\"Name\":\"v\",\"Entity\":\"BusinessOutBreaks\",\"Type\":0}],\"Select\":[{\"Column\":{\"Expression\":{\"SourceRef\":{\"Source\":\"v\"}},\"Property\":\"Location: State/Province\"},\"Name\":\"VCPH_Workplaces - Outbreaks by (2).Location: State/Province\"},{\"Column\":{\"Expression\":{\"SourceRef\":{\"Source\":\"v\"}},\"Property\":\"Location: City\"},\"Name\":\"VCPH_Workplaces - Outbreaks by (2).Location: City\"},{\"Column\":{\"Expression\":{\"SourceRef\":{\"Source\":\"v\"}},\"Property\":\"Location: Street\"},\"Name\":\"VCPH_Workplaces - Outbreaks by (2).Location: Street\"},{\"Aggregation\":{\"Expression\":{\"Column\":{\"Expression\":{\"SourceRef\":{\"Source\":\"v\"}},\"Property\":\"Location: Account Name +\"}},\"Function\":3},\"Name\":\"Min(VCPH_Workplaces - Outbreaks by (2).Location: Account Name +)\"},{\"Column\":{\"Expression\":{\"SourceRef\":{\"Source\":\"v\"}},\"Property\":\"Location Type  ↑\"},\"Name\":\"VCPH_Workplaces - Outbreaks by (2).Location Type  ↑\"}]},\"Binding\":{\"Primary\":{\"Groupings\":[{\"Projections\":[0,1,2,3]}]},\"Secondary\":{\"Groupings\":[{\"Projections\":[4]}]},\"DataReduction\":{\"DataVolume\":4,\"Primary\":{\"Top\":{}},\"Secondary\":{\"Top\":{}}},\"SuppressedJoinPredicates\":[3],\"Version\":1}}}]},\"CacheKey\":\"{\\\\\"Commands\\\\\":[{\\\\\"SemanticQueryDataShapeCommand\\\\\":{\\\\\"Query\\\\\":{\\\\\"Version\\\\\":2,\\\\\"From\\\\\":[{\\\\\"Name\\\\\":\\\\\"v\\\\\",\\\\\"Entity\\\\\":\\\\\"BusinessOutBreaks\\\\\",\\\\\"Type\\\\\":0}],\\\\\"Select\\\\\":[{\\\\\"Column\\\\\":{\\\\\"Expression\\\\\":{\\\\\"SourceRef\\\\\":{\\\\\"Source\\\\\":\\\\\"v\\\\\"}},\\\\\"Property\\\\\":\\\\\"Location: State/Province\\\\\"},\\\\\"Name\\\\\":\\\\\"VCPH_Workplaces - Outbreaks by (2).Location: State/Province\\\\\"},{\\\\\"Column\\\\\":{\\\\\"Expression\\\\\":{\\\\\"SourceRef\\\\\":{\\\\\"Source\\\\\":\\\\\"v\\\\\"}},\\\\\"Property\\\\\":\\\\\"Location: City\\\\\"},\\\\\"Name\\\\\":\\\\\"VCPH_Workplaces - Outbreaks by (2).Location: City\\\\\"},{\\\\\"Column\\\\\":{\\\\\"Expression\\\\\":{\\\\\"SourceRef\\\\\":{\\\\\"Source\\\\\":\\\\\"v\\\\\"}},\\\\\"Property\\\\\":\\\\\"Location: Street\\\\\"},\\\\\"Name\\\\\":\\\\\"VCPH_Workplaces - Outbreaks by (2).Location: Street\\\\\"},{\\\\\"Aggregation\\\\\":{\\\\\"Expression\\\\\":{\\\\\"Column\\\\\":{\\\\\"Expression\\\\\":{\\\\\"SourceRef\\\\\":{\\\\\"Source\\\\\":\\\\\"v\\\\\"}},\\\\\"Property\\\\\":\\\\\"Location: Account Name +\\\\\"}},\\\\\"Function\\\\\":3},\\\\\"Name\\\\\":\\\\\"Min(VCPH_Workplaces - Outbreaks by (2).Location: Account Name +)\\\\\"},{\\\\\"Column\\\\\":{\\\\\"Expression\\\\\":{\\\\\"SourceRef\\\\\":{\\\\\"Source\\\\\":\\\\\"v\\\\\"}},\\\\\"Property\\\\\":\\\\\"Location Type  ↑\\\\\"},\\\\\"Name\\\\\":\\\\\"VCPH_Workplaces - Outbreaks by (2).Location Type  ↑\\\\\"}]},\\\\\"Binding\\\\\":{\\\\\"Primary\\\\\":{\\\\\"Groupings\\\\\":[{\\\\\"Projections\\\\\":[0,1,2,3]}]},\\\\\"Secondary\\\\\":{\\\\\"Groupings\\\\\":[{\\\\\"Projections\\\\\":[4]}]},\\\\\"DataReduction\\\\\":{\\\\\"DataVolume\\\\\":4,\\\\\"Primary\\\\\":{\\\\\"Top\\\\\":{}},\\\\\"Secondary\\\\\":{\\\\\"Top\\\\\":{}}},\\\\\"SuppressedJoinPredicates\\\\\":[3],\\\\\"Version\\\\\":1}}}]}\",\"QueryId\":\"\",\"ApplicationContext\":{\"DatasetId\":\"7230ecb1-54fd-42d0-98ee-b435ae9b17c4\",\"Sources\":[{\"ReportId\":\"a66f1875-ebcd-4275-ba3e-305d18908bb2\"}]}}],\"cancelQueries\":[],\"modelId\":397028}'"
   ]
  },
  {
   "cell_type": "code",
   "execution_count": 34,
   "metadata": {},
   "outputs": [],
   "source": [
    "json_data = json.loads(body)"
   ]
  },
  {
   "cell_type": "code",
   "execution_count": 35,
   "metadata": {},
   "outputs": [
    {
     "name": "stderr",
     "output_type": "stream",
     "text": [
      "/Users/sgreene/.local/share/virtualenvs/coronavirus-tracker-qEYaHAqT/lib/python3.8/site-packages/urllib3/connectionpool.py:1013: InsecureRequestWarning: Unverified HTTPS request is being made to host 'wabi-us-gov-virginia-api.analysis.usgovcloudapi.net'. Adding certificate verification is strongly advised. See: https://urllib3.readthedocs.io/en/latest/advanced-usage.html#ssl-warnings\n",
      "  warnings.warn(\n"
     ]
    }
   ],
   "source": [
    "response = requests.post(\n",
    "    url,\n",
    "    params=params,\n",
    "    headers=headers,\n",
    "    json=json_data,\n",
    "    verify=False,\n",
    "    proxies=proxies\n",
    ")"
   ]
  },
  {
   "cell_type": "code",
   "execution_count": 36,
   "metadata": {},
   "outputs": [],
   "source": [
    "data = response.json()"
   ]
  },
  {
   "cell_type": "code",
   "execution_count": 37,
   "metadata": {},
   "outputs": [],
   "source": [
    "types = data[\"results\"][0][\"result\"][\"data\"][\"dsr\"]['DS'][0]['SH'][0]['DM1']"
   ]
  },
  {
   "cell_type": "code",
   "execution_count": 38,
   "metadata": {},
   "outputs": [],
   "source": [
    "groupings = []\n",
    "for grouping in types:\n",
    "    groupings.append(grouping['G3'])"
   ]
  },
  {
   "cell_type": "code",
   "execution_count": 39,
   "metadata": {},
   "outputs": [
    {
     "data": {
      "text/plain": [
       "['Accommodations (e.g. hotel, hostel, motel)',\n",
       " 'Agricultural operations',\n",
       " 'Airline/maritime travel (e.g. flights, cruise ships)',\n",
       " 'Animal services (e.g., animal shelter/control, veterinary clinic)',\n",
       " 'Auto services (e.g., auto repair, gas station, car wash)',\n",
       " 'Bank/financial services',\n",
       " 'Daycare/Preschool',\n",
       " 'Distribution warehouse',\n",
       " 'Factory/manufacturing plant',\n",
       " 'Food processing/manufacturing (other than meat)',\n",
       " 'Food service/restaurant',\n",
       " 'Office space/workspace',\n",
       " 'Other (specify)',\n",
       " 'Other manufacturing',\n",
       " 'Other medical facility',\n",
       " 'Place of worship',\n",
       " 'Retail space (including grocery stores)',\n",
       " 'Total',\n",
       " 'Urgent care center/clinic']"
      ]
     },
     "execution_count": 39,
     "metadata": {},
     "output_type": "execute_result"
    }
   ],
   "source": [
    "groupings"
   ]
  },
  {
   "cell_type": "code",
   "execution_count": 40,
   "metadata": {},
   "outputs": [],
   "source": [
    "ds = data[\"results\"][0][\"result\"][\"data\"][\"dsr\"][\"DS\"][0]"
   ]
  },
  {
   "cell_type": "code",
   "execution_count": 41,
   "metadata": {},
   "outputs": [
    {
     "data": {
      "text/plain": [
       "['CA']"
      ]
     },
     "execution_count": 41,
     "metadata": {},
     "output_type": "execute_result"
    }
   ],
   "source": [
    "state = ds[\"ValueDicts\"][\"D0\"]\n",
    "state"
   ]
  },
  {
   "cell_type": "code",
   "execution_count": 42,
   "metadata": {},
   "outputs": [],
   "source": [
    "cities = ds[\"ValueDicts\"][\"D1\"]"
   ]
  },
  {
   "cell_type": "code",
   "execution_count": 43,
   "metadata": {},
   "outputs": [],
   "source": [
    "addresses = ds[\"ValueDicts\"][\"D2\"]"
   ]
  },
  {
   "cell_type": "code",
   "execution_count": 44,
   "metadata": {},
   "outputs": [],
   "source": [
    "names = ds[\"ValueDicts\"][\"D3\"]"
   ]
  },
  {
   "cell_type": "code",
   "execution_count": 45,
   "metadata": {},
   "outputs": [],
   "source": [
    "rows = ds[\"PH\"][0][\"DM0\"]"
   ]
  },
  {
   "cell_type": "code",
   "execution_count": 46,
   "metadata": {},
   "outputs": [],
   "source": [
    "locations = []\n",
    "\n",
    "for row in rows[1:]:\n",
    "    keys = row.keys()\n",
    "\n",
    "    cells = row['X']\n",
    "\n",
    "    info = row['C']\n",
    "\n",
    "    if \"R\" not in keys:\n",
    "\n",
    "        state = info[0]\n",
    "        city = info[1]\n",
    "        address = info[2]\n",
    "    elif row[\"R\"] == 1:\n",
    "        city = info[0]\n",
    "        address = info[1]\n",
    "    else:\n",
    "        address = info[0]\n",
    "    \n",
    "    for cell in cells:\n",
    "        try:\n",
    "            name = cell['M0']\n",
    "        except:\n",
    "            name = ''\n",
    "        try:\n",
    "            business_type = cell['I']\n",
    "        except:\n",
    "            business_type = 0\n",
    "        locations.append(\n",
    "            (\n",
    "                name,\n",
    "                business_type,\n",
    "                address,\n",
    "                city,\n",
    "            )\n",
    "        )"
   ]
  },
  {
   "cell_type": "code",
   "execution_count": 47,
   "metadata": {},
   "outputs": [],
   "source": [
    "matched = [\n",
    "    (names[name], groupings[business_type], addresses[address], cities[city]) for name, business_type, address, city in locations\n",
    "]"
   ]
  },
  {
   "cell_type": "code",
   "execution_count": 48,
   "metadata": {},
   "outputs": [],
   "source": [
    "df = pd.DataFrame(matched, columns=[\"business_name\", \"business_type\",\"address\",\"city\"])"
   ]
  },
  {
   "cell_type": "code",
   "execution_count": 49,
   "metadata": {},
   "outputs": [
    {
     "data": {
      "text/plain": [
       "Retail space (including grocery stores)                              19\n",
       "Food service/restaurant                                              19\n",
       "Other manufacturing                                                  13\n",
       "Other (specify)                                                       9\n",
       "Agricultural operations                                               7\n",
       "Factory/manufacturing plant                                           4\n",
       "Bank/financial services                                               4\n",
       "Office space/workspace                                                3\n",
       "Animal services (e.g., animal shelter/control, veterinary clinic)     2\n",
       "Other medical facility                                                2\n",
       "Distribution warehouse                                                2\n",
       "Accommodations (e.g. hotel, hostel, motel)                            1\n",
       "Auto services (e.g., auto repair, gas station, car wash)              1\n",
       "Airline/maritime travel (e.g. flights, cruise ships)                  1\n",
       "Urgent care center/clinic                                             1\n",
       "Food processing/manufacturing (other than meat)                       1\n",
       "Daycare/Preschool                                                     1\n",
       "Place of worship                                                      1\n",
       "Name: business_type, dtype: int64"
      ]
     },
     "execution_count": 49,
     "metadata": {},
     "output_type": "execute_result"
    }
   ],
   "source": [
    "df.business_type.value_counts()"
   ]
  },
  {
   "cell_type": "code",
   "execution_count": 23,
   "metadata": {},
   "outputs": [
    {
     "data": {
      "text/plain": [
       "Oxnard              27\n",
       "Simi Valley         14\n",
       "Ventura             14\n",
       "Thousand Oaks        8\n",
       "Camarillo            8\n",
       "Santa Paula          7\n",
       "Newbury Park         3\n",
       "Moorpark             3\n",
       "Westlake Village     2\n",
       "Port Hueneme         2\n",
       "Fillmore             2\n",
       "Ojai                 1\n",
       "Name: city, dtype: int64"
      ]
     },
     "execution_count": 23,
     "metadata": {},
     "output_type": "execute_result"
    }
   ],
   "source": [
    "df.city.value_counts()"
   ]
  },
  {
   "cell_type": "code",
   "execution_count": 54,
   "metadata": {},
   "outputs": [
    {
     "data": {
      "text/html": [
       "<div>\n",
       "<style scoped>\n",
       "    .dataframe tbody tr th:only-of-type {\n",
       "        vertical-align: middle;\n",
       "    }\n",
       "\n",
       "    .dataframe tbody tr th {\n",
       "        vertical-align: top;\n",
       "    }\n",
       "\n",
       "    .dataframe thead th {\n",
       "        text-align: right;\n",
       "    }\n",
       "</style>\n",
       "<table border=\"1\" class=\"dataframe\">\n",
       "  <thead>\n",
       "    <tr style=\"text-align: right;\">\n",
       "      <th></th>\n",
       "      <th>business_name</th>\n",
       "      <th>business_type</th>\n",
       "      <th>address</th>\n",
       "      <th>city</th>\n",
       "    </tr>\n",
       "  </thead>\n",
       "  <tbody>\n",
       "    <tr>\n",
       "      <th>13</th>\n",
       "      <td>Skyworks Solutions, Inc.</td>\n",
       "      <td>Other manufacturing</td>\n",
       "      <td>2421 / 2427 West Hillcrest Drive</td>\n",
       "      <td>Newbury Park</td>\n",
       "    </tr>\n",
       "    <tr>\n",
       "      <th>14</th>\n",
       "      <td>Panda Express  N.P.</td>\n",
       "      <td>Food service/restaurant</td>\n",
       "      <td>2690 Teller</td>\n",
       "      <td>Newbury Park</td>\n",
       "    </tr>\n",
       "    <tr>\n",
       "      <th>15</th>\n",
       "      <td>Taco Bell - Newbury Park</td>\n",
       "      <td>Food service/restaurant</td>\n",
       "      <td>791 Wendy Drive</td>\n",
       "      <td>Newbury Park</td>\n",
       "    </tr>\n",
       "    <tr>\n",
       "      <th>67</th>\n",
       "      <td>Target Optical</td>\n",
       "      <td>Retail space (including grocery stores)</td>\n",
       "      <td>2705 Teller Rd.</td>\n",
       "      <td>Thousand Oaks</td>\n",
       "    </tr>\n",
       "    <tr>\n",
       "      <th>68</th>\n",
       "      <td>Nordstrom Thousand Oaks</td>\n",
       "      <td>Retail space (including grocery stores)</td>\n",
       "      <td>350 West Hillcrest Drive</td>\n",
       "      <td>Thousand Oaks</td>\n",
       "    </tr>\n",
       "    <tr>\n",
       "      <th>69</th>\n",
       "      <td>Conejo Valley Veterinary Hospital</td>\n",
       "      <td>Animal services (e.g., animal shelter/control,...</td>\n",
       "      <td>3580 Willow Lane</td>\n",
       "      <td>Thousand Oaks</td>\n",
       "    </tr>\n",
       "    <tr>\n",
       "      <th>70</th>\n",
       "      <td>The Cheesecake Factory - Thousand Oaks</td>\n",
       "      <td>Food service/restaurant</td>\n",
       "      <td>442 West Hillcrest Drive</td>\n",
       "      <td>Thousand Oaks</td>\n",
       "    </tr>\n",
       "    <tr>\n",
       "      <th>71</th>\n",
       "      <td>Urbane Cafe - Thousand Oaks</td>\n",
       "      <td>Food service/restaurant</td>\n",
       "      <td>50 Thousand Oaks Boulevard</td>\n",
       "      <td>Thousand Oaks</td>\n",
       "    </tr>\n",
       "    <tr>\n",
       "      <th>72</th>\n",
       "      <td>Michael &amp; Associates Law Firm</td>\n",
       "      <td>Office space/workspace</td>\n",
       "      <td>555 Saint Charles Drive, Suite 204</td>\n",
       "      <td>Thousand Oaks</td>\n",
       "    </tr>\n",
       "    <tr>\n",
       "      <th>73</th>\n",
       "      <td>Michael &amp; Associates, PC</td>\n",
       "      <td>Office space/workspace</td>\n",
       "      <td>555 St. Charles Drive, Suite 204</td>\n",
       "      <td>Thousand Oaks</td>\n",
       "    </tr>\n",
       "    <tr>\n",
       "      <th>74</th>\n",
       "      <td>Little Calf Creamery</td>\n",
       "      <td>Food service/restaurant</td>\n",
       "      <td>652 East Janss Road</td>\n",
       "      <td>Thousand Oaks</td>\n",
       "    </tr>\n",
       "    <tr>\n",
       "      <th>89</th>\n",
       "      <td>Agoura Sash and Door, Inc.</td>\n",
       "      <td>Other (specify)</td>\n",
       "      <td>2301 Townsgate Road</td>\n",
       "      <td>Westlake Village</td>\n",
       "    </tr>\n",
       "    <tr>\n",
       "      <th>90</th>\n",
       "      <td>Trader Joe's - Westlake Village</td>\n",
       "      <td>Retail space (including grocery stores)</td>\n",
       "      <td>3835 East Thousand Oaks Boulevard</td>\n",
       "      <td>Westlake Village</td>\n",
       "    </tr>\n",
       "  </tbody>\n",
       "</table>\n",
       "</div>"
      ],
      "text/plain": [
       "                             business_name  \\\n",
       "13                Skyworks Solutions, Inc.   \n",
       "14                     Panda Express  N.P.   \n",
       "15                Taco Bell - Newbury Park   \n",
       "67                          Target Optical   \n",
       "68                 Nordstrom Thousand Oaks   \n",
       "69       Conejo Valley Veterinary Hospital   \n",
       "70  The Cheesecake Factory - Thousand Oaks   \n",
       "71             Urbane Cafe - Thousand Oaks   \n",
       "72           Michael & Associates Law Firm   \n",
       "73                Michael & Associates, PC   \n",
       "74                    Little Calf Creamery   \n",
       "89              Agoura Sash and Door, Inc.   \n",
       "90         Trader Joe's - Westlake Village   \n",
       "\n",
       "                                        business_type  \\\n",
       "13                                Other manufacturing   \n",
       "14                            Food service/restaurant   \n",
       "15                            Food service/restaurant   \n",
       "67            Retail space (including grocery stores)   \n",
       "68            Retail space (including grocery stores)   \n",
       "69  Animal services (e.g., animal shelter/control,...   \n",
       "70                            Food service/restaurant   \n",
       "71                            Food service/restaurant   \n",
       "72                             Office space/workspace   \n",
       "73                             Office space/workspace   \n",
       "74                            Food service/restaurant   \n",
       "89                                    Other (specify)   \n",
       "90            Retail space (including grocery stores)   \n",
       "\n",
       "                               address              city  \n",
       "13    2421 / 2427 West Hillcrest Drive      Newbury Park  \n",
       "14                         2690 Teller      Newbury Park  \n",
       "15                     791 Wendy Drive      Newbury Park  \n",
       "67                     2705 Teller Rd.     Thousand Oaks  \n",
       "68            350 West Hillcrest Drive     Thousand Oaks  \n",
       "69                    3580 Willow Lane     Thousand Oaks  \n",
       "70            442 West Hillcrest Drive     Thousand Oaks  \n",
       "71          50 Thousand Oaks Boulevard     Thousand Oaks  \n",
       "72  555 Saint Charles Drive, Suite 204     Thousand Oaks  \n",
       "73    555 St. Charles Drive, Suite 204     Thousand Oaks  \n",
       "74                 652 East Janss Road     Thousand Oaks  \n",
       "89                 2301 Townsgate Road  Westlake Village  \n",
       "90   3835 East Thousand Oaks Boulevard  Westlake Village  "
      ]
     },
     "execution_count": 54,
     "metadata": {},
     "output_type": "execute_result"
    }
   ],
   "source": [
    "df[(df.city == \"Thousand Oaks\")| (df.city == \"Newbury Park\") | (df.city == \"Westlake Village\")]"
   ]
  },
  {
   "cell_type": "code",
   "execution_count": 24,
   "metadata": {},
   "outputs": [],
   "source": [
    "today = date.today()"
   ]
  },
  {
   "cell_type": "code",
   "execution_count": 25,
   "metadata": {},
   "outputs": [],
   "source": [
    "df['date'] = today"
   ]
  },
  {
   "cell_type": "code",
   "execution_count": 26,
   "metadata": {},
   "outputs": [],
   "source": [
    "df.to_csv(f'../data/csv/{today}.csv',index=False)"
   ]
  },
  {
   "cell_type": "code",
   "execution_count": 27,
   "metadata": {},
   "outputs": [],
   "source": [
    "df.to_json(f'../data/json/{today}.json',orient='records')"
   ]
  }
 ],
 "metadata": {
  "kernelspec": {
   "display_name": "Python 3",
   "language": "python",
   "name": "python3"
  },
  "language_info": {
   "codemirror_mode": {
    "name": "ipython",
    "version": 3
   },
   "file_extension": ".py",
   "mimetype": "text/x-python",
   "name": "python",
   "nbconvert_exporter": "python",
   "pygments_lexer": "ipython3",
   "version": "3.8.2"
  }
 },
 "nbformat": 4,
 "nbformat_minor": 4
}
